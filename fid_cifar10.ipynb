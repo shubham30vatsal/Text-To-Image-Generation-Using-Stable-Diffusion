{
  "nbformat": 4,
  "nbformat_minor": 0,
  "metadata": {
    "colab": {
      "provenance": []
    },
    "kernelspec": {
      "name": "python3",
      "display_name": "Python 3"
    },
    "language_info": {
      "name": "python"
    },
    "accelerator": "GPU",
    "gpuClass": "standard"
  },
  "cells": [
    {
      "cell_type": "markdown",
      "source": [
        "## Install the Packages"
      ],
      "metadata": {
        "id": "zLVv-RvQfVIE"
      }
    },
    {
      "cell_type": "code",
      "source": [
        "!pip install pytorch-fid"
      ],
      "metadata": {
        "colab": {
          "base_uri": "https://localhost:8080/"
        },
        "id": "J1g-iE_4h0NP",
        "outputId": "7e1e22c3-c0af-4c29-e821-da9928cfaf55"
      },
      "execution_count": null,
      "outputs": [
        {
          "output_type": "stream",
          "name": "stdout",
          "text": [
            "Looking in indexes: https://pypi.org/simple, https://us-python.pkg.dev/colab-wheels/public/simple/\n",
            "Collecting pytorch-fid\n",
            "  Downloading pytorch-fid-0.2.1.tar.gz (14 kB)\n",
            "Requirement already satisfied: numpy in /usr/local/lib/python3.8/dist-packages (from pytorch-fid) (1.21.6)\n",
            "Requirement already satisfied: pillow in /usr/local/lib/python3.8/dist-packages (from pytorch-fid) (7.1.2)\n",
            "Requirement already satisfied: scipy in /usr/local/lib/python3.8/dist-packages (from pytorch-fid) (1.7.3)\n",
            "Requirement already satisfied: torch>=1.0.1 in /usr/local/lib/python3.8/dist-packages (from pytorch-fid) (1.13.0+cu116)\n",
            "Requirement already satisfied: torchvision>=0.2.2 in /usr/local/lib/python3.8/dist-packages (from pytorch-fid) (0.14.0+cu116)\n",
            "Requirement already satisfied: typing-extensions in /usr/local/lib/python3.8/dist-packages (from torch>=1.0.1->pytorch-fid) (4.4.0)\n",
            "Requirement already satisfied: requests in /usr/local/lib/python3.8/dist-packages (from torchvision>=0.2.2->pytorch-fid) (2.23.0)\n",
            "Requirement already satisfied: certifi>=2017.4.17 in /usr/local/lib/python3.8/dist-packages (from requests->torchvision>=0.2.2->pytorch-fid) (2022.9.24)\n",
            "Requirement already satisfied: chardet<4,>=3.0.2 in /usr/local/lib/python3.8/dist-packages (from requests->torchvision>=0.2.2->pytorch-fid) (3.0.4)\n",
            "Requirement already satisfied: idna<3,>=2.5 in /usr/local/lib/python3.8/dist-packages (from requests->torchvision>=0.2.2->pytorch-fid) (2.10)\n",
            "Requirement already satisfied: urllib3!=1.25.0,!=1.25.1,<1.26,>=1.21.1 in /usr/local/lib/python3.8/dist-packages (from requests->torchvision>=0.2.2->pytorch-fid) (1.24.3)\n",
            "Building wheels for collected packages: pytorch-fid\n",
            "  Building wheel for pytorch-fid (setup.py) ... \u001b[?25l\u001b[?25hdone\n",
            "  Created wheel for pytorch-fid: filename=pytorch_fid-0.2.1-py3-none-any.whl size=14834 sha256=d9d38927f3792ae8956e32f6a599000823f2d1d23afe8bead374a6ab5dbf1377\n",
            "  Stored in directory: /root/.cache/pip/wheels/df/c8/a0/cce2ed7671ae52be132ae836e429bba6148544f83b7962b4bc\n",
            "Successfully built pytorch-fid\n",
            "Installing collected packages: pytorch-fid\n",
            "Successfully installed pytorch-fid-0.2.1\n"
          ]
        }
      ]
    },
    {
      "cell_type": "markdown",
      "source": [
        "## Import the Packages"
      ],
      "metadata": {
        "id": "I6ApUtKhfaEq"
      }
    },
    {
      "cell_type": "code",
      "source": [
        "from PIL import Image\n",
        "import os, sys\n",
        "import shutil"
      ],
      "metadata": {
        "id": "4FaNAc9YfeMU"
      },
      "execution_count": null,
      "outputs": []
    },
    {
      "cell_type": "markdown",
      "source": [
        "## Resizing the Ground Truth Images\n",
        "\n",
        "The generated images for CIFAR-10 dataset from Stable Diffusion model are of 512x512 size but the ground truth test set images are of 32x32. This is why we are resizing the generated test set images in order to calculate FID."
      ],
      "metadata": {
        "id": "sbszGKj8fkgU"
      }
    },
    {
      "cell_type": "code",
      "source": [
        "path = \"path/to/generated/images\"\n",
        "dirs = os.listdir(path)\n",
        "print(dirs)\n",
        "\n",
        "newpath = \"path/to/resized/generated/images\"\n",
        "if not os.path.exists(newpath):\n",
        "    os.makedirs(newpath)\n",
        "\n",
        "n = 0\n",
        "def resize():\n",
        "  n=0\n",
        "  for item in dirs:\n",
        "    if os.path.isfile(path+item) and item.endswith('.png'):\n",
        "      im = Image.open(path+item)\n",
        "      # f, e = os.path.splitext(path+item)\n",
        "      imResize = im.resize((32,32), Image.ANTIALIAS)\n",
        "      imResize.save(newpath + item , 'PNG', quality=95, subsampling=0)\n",
        "      n=n+1\n",
        "      #print(n)\n",
        "\n",
        "resize()"
      ],
      "metadata": {
        "id": "UDTMbC6FkcZB"
      },
      "execution_count": null,
      "outputs": []
    },
    {
      "cell_type": "code",
      "source": [
        "!python   -m pytorch_fid --device cuda:0 --batch-size 128  'path/to/resized/generated/images' 'path/to/ground/truth/images'  "
      ],
      "metadata": {
        "colab": {
          "base_uri": "https://localhost:8080/"
        },
        "id": "IRhCrd7ViEmK",
        "outputId": "ac59b8a7-f03e-4a09-9abf-84e584798096"
      },
      "execution_count": null,
      "outputs": [
        {
          "output_type": "stream",
          "name": "stdout",
          "text": [
            "/usr/local/lib/python3.8/dist-packages/torchvision/models/_utils.py:208: UserWarning: The parameter 'pretrained' is deprecated since 0.13 and may be removed in the future, please use 'weights' instead.\n",
            "  warnings.warn(\n",
            "/usr/local/lib/python3.8/dist-packages/torchvision/models/_utils.py:223: UserWarning: Arguments other than a weight enum or `None` for 'weights' are deprecated since 0.13 and may be removed in the future. The current behavior is equivalent to passing `weights=None`.\n",
            "  warnings.warn(msg)\n",
            "Downloading: \"https://github.com/mseitzer/pytorch-fid/releases/download/fid_weights/pt_inception-2015-12-05-6726825d.pth\" to /root/.cache/torch/hub/checkpoints/pt_inception-2015-12-05-6726825d.pth\n",
            "100% 91.2M/91.2M [00:00<00:00, 95.8MB/s]\n",
            "100% 79/79 [00:41<00:00,  1.92it/s]\n",
            "100% 79/79 [00:36<00:00,  2.18it/s]\n",
            "FID:  29.34695011287687\n"
          ]
        }
      ]
    }
  ]
}