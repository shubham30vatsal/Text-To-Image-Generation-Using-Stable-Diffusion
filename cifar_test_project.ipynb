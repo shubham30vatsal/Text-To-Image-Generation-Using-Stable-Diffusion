{
  "nbformat": 4,
  "nbformat_minor": 0,
  "metadata": {
    "colab": {
      "provenance": []
    },
    "kernelspec": {
      "name": "python3",
      "display_name": "Python 3"
    },
    "language_info": {
      "name": "python"
    },
    "accelerator": "GPU",
    "gpuClass": "standard",
    "widgets": {
      "application/vnd.jupyter.widget-state+json": {
        "7bda2d3bbf494030a65e2ee545a1cd4e": {
          "model_module": "@jupyter-widgets/controls",
          "model_name": "HBoxModel",
          "model_module_version": "1.5.0",
          "state": {
            "_dom_classes": [],
            "_model_module": "@jupyter-widgets/controls",
            "_model_module_version": "1.5.0",
            "_model_name": "HBoxModel",
            "_view_count": null,
            "_view_module": "@jupyter-widgets/controls",
            "_view_module_version": "1.5.0",
            "_view_name": "HBoxView",
            "box_style": "",
            "children": [
              "IPY_MODEL_d397034dceb04defa10fccf62977ba76",
              "IPY_MODEL_3aeb8f05b77744b29700c5c0ce687bd2",
              "IPY_MODEL_a6c7fc820dc94711b1e0a2e144fa72a6"
            ],
            "layout": "IPY_MODEL_0199d0d0770f4e788371933c8f074d0f"
          }
        },
        "d397034dceb04defa10fccf62977ba76": {
          "model_module": "@jupyter-widgets/controls",
          "model_name": "HTMLModel",
          "model_module_version": "1.5.0",
          "state": {
            "_dom_classes": [],
            "_model_module": "@jupyter-widgets/controls",
            "_model_module_version": "1.5.0",
            "_model_name": "HTMLModel",
            "_view_count": null,
            "_view_module": "@jupyter-widgets/controls",
            "_view_module_version": "1.5.0",
            "_view_name": "HTMLView",
            "description": "",
            "description_tooltip": null,
            "layout": "IPY_MODEL_9d49987fc09b4a92ad24cc520b858a62",
            "placeholder": "​",
            "style": "IPY_MODEL_ae45642c279b440f975c8ff8be1d9f80",
            "value": "100%"
          }
        },
        "3aeb8f05b77744b29700c5c0ce687bd2": {
          "model_module": "@jupyter-widgets/controls",
          "model_name": "FloatProgressModel",
          "model_module_version": "1.5.0",
          "state": {
            "_dom_classes": [],
            "_model_module": "@jupyter-widgets/controls",
            "_model_module_version": "1.5.0",
            "_model_name": "FloatProgressModel",
            "_view_count": null,
            "_view_module": "@jupyter-widgets/controls",
            "_view_module_version": "1.5.0",
            "_view_name": "ProgressView",
            "bar_style": "success",
            "description": "",
            "description_tooltip": null,
            "layout": "IPY_MODEL_379b199d990041c0a3969bbcb14a85f0",
            "max": 15074092,
            "min": 0,
            "orientation": "horizontal",
            "style": "IPY_MODEL_8aab4092f71f4b90ac7142ebc767201a",
            "value": 15074092
          }
        },
        "a6c7fc820dc94711b1e0a2e144fa72a6": {
          "model_module": "@jupyter-widgets/controls",
          "model_name": "HTMLModel",
          "model_module_version": "1.5.0",
          "state": {
            "_dom_classes": [],
            "_model_module": "@jupyter-widgets/controls",
            "_model_module_version": "1.5.0",
            "_model_name": "HTMLModel",
            "_view_count": null,
            "_view_module": "@jupyter-widgets/controls",
            "_view_module_version": "1.5.0",
            "_view_name": "HTMLView",
            "description": "",
            "description_tooltip": null,
            "layout": "IPY_MODEL_36c80d73b7e24bff8ff363e5451009a6",
            "placeholder": "​",
            "style": "IPY_MODEL_7a48eff135164fe6a1cbe82464e4b500",
            "value": " 14.4M/14.4M [00:00&lt;00:00, 26.1MB/s]"
          }
        },
        "0199d0d0770f4e788371933c8f074d0f": {
          "model_module": "@jupyter-widgets/base",
          "model_name": "LayoutModel",
          "model_module_version": "1.2.0",
          "state": {
            "_model_module": "@jupyter-widgets/base",
            "_model_module_version": "1.2.0",
            "_model_name": "LayoutModel",
            "_view_count": null,
            "_view_module": "@jupyter-widgets/base",
            "_view_module_version": "1.2.0",
            "_view_name": "LayoutView",
            "align_content": null,
            "align_items": null,
            "align_self": null,
            "border": null,
            "bottom": null,
            "display": null,
            "flex": null,
            "flex_flow": null,
            "grid_area": null,
            "grid_auto_columns": null,
            "grid_auto_flow": null,
            "grid_auto_rows": null,
            "grid_column": null,
            "grid_gap": null,
            "grid_row": null,
            "grid_template_areas": null,
            "grid_template_columns": null,
            "grid_template_rows": null,
            "height": null,
            "justify_content": null,
            "justify_items": null,
            "left": null,
            "margin": null,
            "max_height": null,
            "max_width": null,
            "min_height": null,
            "min_width": null,
            "object_fit": null,
            "object_position": null,
            "order": null,
            "overflow": null,
            "overflow_x": null,
            "overflow_y": null,
            "padding": null,
            "right": null,
            "top": null,
            "visibility": null,
            "width": null
          }
        },
        "9d49987fc09b4a92ad24cc520b858a62": {
          "model_module": "@jupyter-widgets/base",
          "model_name": "LayoutModel",
          "model_module_version": "1.2.0",
          "state": {
            "_model_module": "@jupyter-widgets/base",
            "_model_module_version": "1.2.0",
            "_model_name": "LayoutModel",
            "_view_count": null,
            "_view_module": "@jupyter-widgets/base",
            "_view_module_version": "1.2.0",
            "_view_name": "LayoutView",
            "align_content": null,
            "align_items": null,
            "align_self": null,
            "border": null,
            "bottom": null,
            "display": null,
            "flex": null,
            "flex_flow": null,
            "grid_area": null,
            "grid_auto_columns": null,
            "grid_auto_flow": null,
            "grid_auto_rows": null,
            "grid_column": null,
            "grid_gap": null,
            "grid_row": null,
            "grid_template_areas": null,
            "grid_template_columns": null,
            "grid_template_rows": null,
            "height": null,
            "justify_content": null,
            "justify_items": null,
            "left": null,
            "margin": null,
            "max_height": null,
            "max_width": null,
            "min_height": null,
            "min_width": null,
            "object_fit": null,
            "object_position": null,
            "order": null,
            "overflow": null,
            "overflow_x": null,
            "overflow_y": null,
            "padding": null,
            "right": null,
            "top": null,
            "visibility": null,
            "width": null
          }
        },
        "ae45642c279b440f975c8ff8be1d9f80": {
          "model_module": "@jupyter-widgets/controls",
          "model_name": "DescriptionStyleModel",
          "model_module_version": "1.5.0",
          "state": {
            "_model_module": "@jupyter-widgets/controls",
            "_model_module_version": "1.5.0",
            "_model_name": "DescriptionStyleModel",
            "_view_count": null,
            "_view_module": "@jupyter-widgets/base",
            "_view_module_version": "1.2.0",
            "_view_name": "StyleView",
            "description_width": ""
          }
        },
        "379b199d990041c0a3969bbcb14a85f0": {
          "model_module": "@jupyter-widgets/base",
          "model_name": "LayoutModel",
          "model_module_version": "1.2.0",
          "state": {
            "_model_module": "@jupyter-widgets/base",
            "_model_module_version": "1.2.0",
            "_model_name": "LayoutModel",
            "_view_count": null,
            "_view_module": "@jupyter-widgets/base",
            "_view_module_version": "1.2.0",
            "_view_name": "LayoutView",
            "align_content": null,
            "align_items": null,
            "align_self": null,
            "border": null,
            "bottom": null,
            "display": null,
            "flex": null,
            "flex_flow": null,
            "grid_area": null,
            "grid_auto_columns": null,
            "grid_auto_flow": null,
            "grid_auto_rows": null,
            "grid_column": null,
            "grid_gap": null,
            "grid_row": null,
            "grid_template_areas": null,
            "grid_template_columns": null,
            "grid_template_rows": null,
            "height": null,
            "justify_content": null,
            "justify_items": null,
            "left": null,
            "margin": null,
            "max_height": null,
            "max_width": null,
            "min_height": null,
            "min_width": null,
            "object_fit": null,
            "object_position": null,
            "order": null,
            "overflow": null,
            "overflow_x": null,
            "overflow_y": null,
            "padding": null,
            "right": null,
            "top": null,
            "visibility": null,
            "width": null
          }
        },
        "8aab4092f71f4b90ac7142ebc767201a": {
          "model_module": "@jupyter-widgets/controls",
          "model_name": "ProgressStyleModel",
          "model_module_version": "1.5.0",
          "state": {
            "_model_module": "@jupyter-widgets/controls",
            "_model_module_version": "1.5.0",
            "_model_name": "ProgressStyleModel",
            "_view_count": null,
            "_view_module": "@jupyter-widgets/base",
            "_view_module_version": "1.2.0",
            "_view_name": "StyleView",
            "bar_color": null,
            "description_width": ""
          }
        },
        "36c80d73b7e24bff8ff363e5451009a6": {
          "model_module": "@jupyter-widgets/base",
          "model_name": "LayoutModel",
          "model_module_version": "1.2.0",
          "state": {
            "_model_module": "@jupyter-widgets/base",
            "_model_module_version": "1.2.0",
            "_model_name": "LayoutModel",
            "_view_count": null,
            "_view_module": "@jupyter-widgets/base",
            "_view_module_version": "1.2.0",
            "_view_name": "LayoutView",
            "align_content": null,
            "align_items": null,
            "align_self": null,
            "border": null,
            "bottom": null,
            "display": null,
            "flex": null,
            "flex_flow": null,
            "grid_area": null,
            "grid_auto_columns": null,
            "grid_auto_flow": null,
            "grid_auto_rows": null,
            "grid_column": null,
            "grid_gap": null,
            "grid_row": null,
            "grid_template_areas": null,
            "grid_template_columns": null,
            "grid_template_rows": null,
            "height": null,
            "justify_content": null,
            "justify_items": null,
            "left": null,
            "margin": null,
            "max_height": null,
            "max_width": null,
            "min_height": null,
            "min_width": null,
            "object_fit": null,
            "object_position": null,
            "order": null,
            "overflow": null,
            "overflow_x": null,
            "overflow_y": null,
            "padding": null,
            "right": null,
            "top": null,
            "visibility": null,
            "width": null
          }
        },
        "7a48eff135164fe6a1cbe82464e4b500": {
          "model_module": "@jupyter-widgets/controls",
          "model_name": "DescriptionStyleModel",
          "model_module_version": "1.5.0",
          "state": {
            "_model_module": "@jupyter-widgets/controls",
            "_model_module_version": "1.5.0",
            "_model_name": "DescriptionStyleModel",
            "_view_count": null,
            "_view_module": "@jupyter-widgets/base",
            "_view_module_version": "1.2.0",
            "_view_name": "StyleView",
            "description_width": ""
          }
        }
      }
    }
  },
  "cells": [
    {
      "cell_type": "code",
      "source": [
        "#unzipping the directory of generated images\n",
        "!unzip cifar10_1.zip\n",
        "\n",
        "#cloning a repo which has state of the art classifier for CIFAR10\n",
        "!git clone https://github.com/SHI-Labs/Compact-Transformers.git"
      ],
      "metadata": {
        "id": "pc3nr3xwj3aC"
      },
      "execution_count": null,
      "outputs": []
    },
    {
      "cell_type": "code",
      "execution_count": null,
      "metadata": {
        "id": "sz8gMirqWjph",
        "colab": {
          "base_uri": "https://localhost:8080/"
        },
        "outputId": "7b154da9-534e-4401-e406-a147b2dc73e1"
      },
      "outputs": [
        {
          "output_type": "stream",
          "name": "stdout",
          "text": [
            "/content/Compact-Transformers\n"
          ]
        }
      ],
      "source": [
        "%cd Compact-Transformers\n"
      ]
    },
    {
      "cell_type": "code",
      "source": [
        "from src import cct_7_3x1_32\n",
        "model = cct_7_3x1_32(pretrained=True, progress=True)\n",
        "\n"
      ],
      "metadata": {
        "id": "5SP9qOa7kCZf",
        "colab": {
          "base_uri": "https://localhost:8080/",
          "height": 86,
          "referenced_widgets": [
            "7bda2d3bbf494030a65e2ee545a1cd4e",
            "d397034dceb04defa10fccf62977ba76",
            "3aeb8f05b77744b29700c5c0ce687bd2",
            "a6c7fc820dc94711b1e0a2e144fa72a6",
            "0199d0d0770f4e788371933c8f074d0f",
            "9d49987fc09b4a92ad24cc520b858a62",
            "ae45642c279b440f975c8ff8be1d9f80",
            "379b199d990041c0a3969bbcb14a85f0",
            "8aab4092f71f4b90ac7142ebc767201a",
            "36c80d73b7e24bff8ff363e5451009a6",
            "7a48eff135164fe6a1cbe82464e4b500"
          ]
        },
        "outputId": "7c6529b2-768a-471d-c744-ad30a1a9c549"
      },
      "execution_count": null,
      "outputs": [
        {
          "output_type": "stream",
          "name": "stderr",
          "text": [
            "Downloading: \"https://shi-labs.com/projects/cct/checkpoints/pretrained/cct_7_3x1_32_cifar10_300epochs.pth\" to /root/.cache/torch/hub/checkpoints/cct_7_3x1_32_cifar10_300epochs.pth\n"
          ]
        },
        {
          "output_type": "display_data",
          "data": {
            "text/plain": [
              "  0%|          | 0.00/14.4M [00:00<?, ?B/s]"
            ],
            "application/vnd.jupyter.widget-view+json": {
              "version_major": 2,
              "version_minor": 0,
              "model_id": "7bda2d3bbf494030a65e2ee545a1cd4e"
            }
          },
          "metadata": {}
        }
      ]
    },
    {
      "cell_type": "code",
      "source": [
        "import torch\n",
        "import torch.nn as nn\n",
        "import torch.optim\n",
        "import torch.utils.data\n",
        "import torchvision.transforms as transforms\n",
        "import torchvision\n",
        "import torch.utils.data as data "
      ],
      "metadata": {
        "id": "c6HpDQ-I-kk8"
      },
      "execution_count": null,
      "outputs": []
    },
    {
      "cell_type": "code",
      "source": [
        "#loading data from the cifar10 generated images folder for classification\n",
        "test_data = torchvision.datasets.ImageFolder(root=\"/content/cifar10\", transform=transforms.Compose([\n",
        "            transforms.ToTensor(),\n",
        "            transforms.Normalize(mean=[0.4914, 0.4822, 0.4465],\n",
        "                         std=[0.2470, 0.2435, 0.2616])\n",
        "    ]))\n",
        "\n",
        "test_data_loader  = data.DataLoader(test_data, batch_size=256, shuffle=True)\n"
      ],
      "metadata": {
        "id": "U_V86Lfo-lSU"
      },
      "execution_count": null,
      "outputs": []
    },
    {
      "cell_type": "code",
      "source": [
        "#classification logic\n",
        "\n",
        "import numpy as np\n",
        "from sklearn.metrics import accuracy_score,confusion_matrix,precision_score,recall_score,f1_score\n",
        "\n",
        "\n",
        "if torch.cuda.is_available():      \n",
        "    device = torch.device(\"cuda\")\n",
        "\n",
        "else:\n",
        "    device = torch.device(\"cpu\")\n",
        "\n",
        "print(device)\n",
        "\n",
        "model.eval()\n",
        "model.to(device)\n",
        "loss_val, acc1_val = 0, 0\n",
        "n = 0\n",
        "correct = 0\n",
        "x = torch.empty(0).to(device)\n",
        "y = torch.empty(0).to(device)\n",
        "\n",
        "\n",
        "with torch.no_grad():\n",
        "    for i, (images, targets) in enumerate(test_data_loader):\n",
        "        images = images.to(device)\n",
        "        targets = targets.to(device)\n",
        "        output = model(images)\n",
        "        output = torch.argmax(output,1)\n",
        "        \n",
        "        x = torch.cat((x,output),0)\n",
        "        y = torch.cat((y,targets),0)\n",
        "        \n",
        "        n += images.size(0)\n",
        "        if n % 500 == 0:\n",
        "          print(n)\n",
        "        \n",
        "\n",
        "y = np.round(y.cpu().detach().numpy(),0)\n",
        "x = np.round(x.cpu().detach().numpy(),0)\n",
        "\n",
        "\n",
        "\n"
      ],
      "metadata": {
        "id": "M0MIvvhl_9WW",
        "colab": {
          "base_uri": "https://localhost:8080/"
        },
        "outputId": "7626b7ac-eba4-4651-f1ab-fd0766b36e16"
      },
      "execution_count": null,
      "outputs": [
        {
          "output_type": "stream",
          "name": "stdout",
          "text": [
            "cuda\n",
            "10000\n"
          ]
        }
      ]
    },
    {
      "cell_type": "code",
      "source": [
        "#printing the metrics\n",
        "print(\"Avg accuracy = \", accuracy_score(y, x))\n",
        "print(\"Confusion matrix = \", confusion_matrix(y, x))\n",
        "print(\"Precesion Total = \", precision_score(y, x , average='micro'))\n",
        "print(\"Precision classwise = \", precision_score(y, x , average=None))\n",
        "print(\"Recall Total = \", recall_score(y, x , average='micro'))\n",
        "print(\"Recall classwise = \", recall_score(y, x , average=None))\n",
        "print(\"F1 Total = \", f1_score(y, x , average='micro'))\n",
        "print(\"F1 classwise = \", f1_score(y, x , average=None))\n"
      ],
      "metadata": {
        "colab": {
          "base_uri": "https://localhost:8080/"
        },
        "id": "sEmRCTmMgkPH",
        "outputId": "2df7d161-061f-4b50-da40-0c205694a7b2"
      },
      "execution_count": null,
      "outputs": [
        {
          "output_type": "stream",
          "name": "stdout",
          "text": [
            "Avg accuracy =  0.9993\n",
            "Confusion matrix =  [[ 998    0    2    0    0    0    0    0    0    0]\n",
            " [   0 1000    0    0    0    0    0    0    0    0]\n",
            " [   0    0 1000    0    0    0    0    0    0    0]\n",
            " [   0    0    0 1000    0    0    0    0    0    0]\n",
            " [   0    0    0    0 1000    0    0    0    0    0]\n",
            " [   0    0    0    2    0  998    0    0    0    0]\n",
            " [   0    0    0    0    0    0 1000    0    0    0]\n",
            " [   0    0    0    0    1    0    0  999    0    0]\n",
            " [   2    0    0    0    0    0    0    0  998    0]\n",
            " [   0    0    0    0    0    0    0    0    0 1000]]\n",
            "Precesion Total =  0.9993\n",
            "Precision classwise =  [0.998      1.         0.99800399 0.99800399 0.999001   1.\n",
            " 1.         1.         1.         1.        ]\n",
            "Recall Total =  0.9993\n",
            "Recall classwise =  [0.998 1.    1.    1.    1.    0.998 1.    0.999 0.998 1.   ]\n",
            "F1 Total =  0.9993\n",
            "F1 classwise =  [0.998      1.         0.999001   0.999001   0.99950025 0.998999\n",
            " 1.         0.99949975 0.998999   1.        ]\n"
          ]
        }
      ]
    }
  ]
}