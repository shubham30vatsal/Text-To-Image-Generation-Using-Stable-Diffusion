{
  "cells": [
    {
      "cell_type": "markdown",
      "source": [
        " ## Install the Required Packages"
      ],
      "metadata": {
        "id": "PI7QPy9D2EUE"
      }
    },
    {
      "cell_type": "code",
      "execution_count": null,
      "metadata": {
        "colab": {
          "base_uri": "https://localhost:8080/"
        },
        "id": "0-1UxNIt-3Qs",
        "outputId": "9ac64e92-44eb-4963-8efe-47edaad90848"
      },
      "outputs": [
        {
          "name": "stdout",
          "output_type": "stream",
          "text": [
            "Collecting git+https://github.com/huggingface/diffusers.git\n",
            "  Cloning https://github.com/huggingface/diffusers.git to /state/partition1/job-27670277/pip-req-build-qysr29kz\n",
            "  Running command git clone --filter=blob:none --quiet https://github.com/huggingface/diffusers.git /state/partition1/job-27670277/pip-req-build-qysr29kz\n",
            "  Resolved https://github.com/huggingface/diffusers.git to commit 9a52e33eb65bc580e3257ce504372a67b16fb8df\n",
            "  Installing build dependencies ... \u001b[?25ldone\n",
            "\u001b[?25h  Getting requirements to build wheel ... \u001b[?25ldone\n",
            "\u001b[?25h  Preparing metadata (pyproject.toml) ... \u001b[?25ldone\n",
            "\u001b[?25hRequirement already satisfied: regex!=2019.12.17 in /ext3/miniconda3/envs/wol_env/lib/python3.7/site-packages (from diffusers==0.10.0.dev0) (2022.4.24)\n",
            "Requirement already satisfied: numpy in /ext3/miniconda3/envs/wol_env/lib/python3.7/site-packages (from diffusers==0.10.0.dev0) (1.21.6)\n",
            "Requirement already satisfied: Pillow in /ext3/miniconda3/envs/wol_env/lib/python3.7/site-packages (from diffusers==0.10.0.dev0) (9.1.1)\n",
            "Requirement already satisfied: filelock in /ext3/miniconda3/envs/wol_env/lib/python3.7/site-packages (from diffusers==0.10.0.dev0) (3.7.0)\n",
            "Requirement already satisfied: importlib-metadata in /ext3/miniconda3/envs/wol_env/lib/python3.7/site-packages (from diffusers==0.10.0.dev0) (4.11.4)\n",
            "Requirement already satisfied: huggingface-hub>=0.10.0 in /ext3/miniconda3/envs/wol_env/lib/python3.7/site-packages (from diffusers==0.10.0.dev0) (0.11.0)\n",
            "Requirement already satisfied: requests in /ext3/miniconda3/envs/wol_env/lib/python3.7/site-packages (from diffusers==0.10.0.dev0) (2.27.1)\n",
            "Requirement already satisfied: typing-extensions>=3.7.4.3 in /ext3/miniconda3/envs/wol_env/lib/python3.7/site-packages (from huggingface-hub>=0.10.0->diffusers==0.10.0.dev0) (4.4.0)\n",
            "Requirement already satisfied: tqdm in /ext3/miniconda3/envs/wol_env/lib/python3.7/site-packages (from huggingface-hub>=0.10.0->diffusers==0.10.0.dev0) (4.64.0)\n",
            "Requirement already satisfied: packaging>=20.9 in /ext3/miniconda3/envs/wol_env/lib/python3.7/site-packages (from huggingface-hub>=0.10.0->diffusers==0.10.0.dev0) (21.3)\n",
            "Requirement already satisfied: pyyaml>=5.1 in /ext3/miniconda3/envs/wol_env/lib/python3.7/site-packages (from huggingface-hub>=0.10.0->diffusers==0.10.0.dev0) (6.0)\n",
            "Requirement already satisfied: zipp>=0.5 in /ext3/miniconda3/envs/wol_env/lib/python3.7/site-packages (from importlib-metadata->diffusers==0.10.0.dev0) (3.8.0)\n",
            "Requirement already satisfied: urllib3<1.27,>=1.21.1 in /ext3/miniconda3/envs/wol_env/lib/python3.7/site-packages (from requests->diffusers==0.10.0.dev0) (1.26.13)\n",
            "Requirement already satisfied: certifi>=2017.4.17 in /ext3/miniconda3/envs/wol_env/lib/python3.7/site-packages (from requests->diffusers==0.10.0.dev0) (2022.5.18.1)\n",
            "Requirement already satisfied: charset-normalizer~=2.0.0 in /ext3/miniconda3/envs/wol_env/lib/python3.7/site-packages (from requests->diffusers==0.10.0.dev0) (2.0.12)\n",
            "Requirement already satisfied: idna<4,>=2.5 in /ext3/miniconda3/envs/wol_env/lib/python3.7/site-packages (from requests->diffusers==0.10.0.dev0) (3.3)\n",
            "Requirement already satisfied: pyparsing!=3.0.5,>=2.0.2 in /ext3/miniconda3/envs/wol_env/lib/python3.7/site-packages (from packaging>=20.9->huggingface-hub>=0.10.0->diffusers==0.10.0.dev0) (3.0.9)\n",
            "Building wheels for collected packages: diffusers\n",
            "  Building wheel for diffusers (pyproject.toml) ... \u001b[?25ldone\n",
            "\u001b[?25h  Created wheel for diffusers: filename=diffusers-0.10.0.dev0-py3-none-any.whl size=468367 sha256=3de55de6c676f3a9882e643e1fd4c30ccc6fb846da4b51133e503d788d4321fa\n",
            "  Stored in directory: /state/partition1/job-27670277/pip-ephem-wheel-cache-mlkzh3f7/wheels/02/d2/24/9d4a75289c359ffceca56b42aecb8e8fbf659c455bcd4d2eca\n",
            "Successfully built diffusers\n",
            "Installing collected packages: diffusers\n",
            "  Attempting uninstall: diffusers\n",
            "    Found existing installation: diffusers 0.3.0\n",
            "    Uninstalling diffusers-0.3.0:\n",
            "      Successfully uninstalled diffusers-0.3.0\n",
            "Successfully installed diffusers-0.10.0.dev0\n",
            "Collecting diffusers==0.4.1\n",
            "  Downloading diffusers-0.4.1-py3-none-any.whl (229 kB)\n",
            "\u001b[2K     \u001b[90m━━━━━━━━━━━━━━━━━━━━━━━━━━━━━━━━━━━━━━━\u001b[0m \u001b[32m229.6/229.6 kB\u001b[0m \u001b[31m6.7 MB/s\u001b[0m eta \u001b[36m0:00:00\u001b[0m\n",
            "\u001b[?25hRequirement already satisfied: importlib-metadata in /ext3/miniconda3/envs/wol_env/lib/python3.7/site-packages (from diffusers==0.4.1) (4.11.4)\n",
            "Requirement already satisfied: numpy in /ext3/miniconda3/envs/wol_env/lib/python3.7/site-packages (from diffusers==0.4.1) (1.21.6)\n",
            "Requirement already satisfied: huggingface-hub>=0.10.0 in /ext3/miniconda3/envs/wol_env/lib/python3.7/site-packages (from diffusers==0.4.1) (0.11.0)\n",
            "Requirement already satisfied: requests in /ext3/miniconda3/envs/wol_env/lib/python3.7/site-packages (from diffusers==0.4.1) (2.27.1)\n",
            "Requirement already satisfied: Pillow<10.0 in /ext3/miniconda3/envs/wol_env/lib/python3.7/site-packages (from diffusers==0.4.1) (9.1.1)\n",
            "Requirement already satisfied: regex!=2019.12.17 in /ext3/miniconda3/envs/wol_env/lib/python3.7/site-packages (from diffusers==0.4.1) (2022.4.24)\n",
            "Requirement already satisfied: filelock in /ext3/miniconda3/envs/wol_env/lib/python3.7/site-packages (from diffusers==0.4.1) (3.7.0)\n",
            "Requirement already satisfied: packaging>=20.9 in /ext3/miniconda3/envs/wol_env/lib/python3.7/site-packages (from huggingface-hub>=0.10.0->diffusers==0.4.1) (21.3)\n",
            "Requirement already satisfied: tqdm in /ext3/miniconda3/envs/wol_env/lib/python3.7/site-packages (from huggingface-hub>=0.10.0->diffusers==0.4.1) (4.64.0)\n",
            "Requirement already satisfied: pyyaml>=5.1 in /ext3/miniconda3/envs/wol_env/lib/python3.7/site-packages (from huggingface-hub>=0.10.0->diffusers==0.4.1) (6.0)\n",
            "Requirement already satisfied: typing-extensions>=3.7.4.3 in /ext3/miniconda3/envs/wol_env/lib/python3.7/site-packages (from huggingface-hub>=0.10.0->diffusers==0.4.1) (4.4.0)\n",
            "Requirement already satisfied: zipp>=0.5 in /ext3/miniconda3/envs/wol_env/lib/python3.7/site-packages (from importlib-metadata->diffusers==0.4.1) (3.8.0)\n",
            "Requirement already satisfied: idna<4,>=2.5 in /ext3/miniconda3/envs/wol_env/lib/python3.7/site-packages (from requests->diffusers==0.4.1) (3.3)\n",
            "Requirement already satisfied: charset-normalizer~=2.0.0 in /ext3/miniconda3/envs/wol_env/lib/python3.7/site-packages (from requests->diffusers==0.4.1) (2.0.12)\n",
            "Requirement already satisfied: urllib3<1.27,>=1.21.1 in /ext3/miniconda3/envs/wol_env/lib/python3.7/site-packages (from requests->diffusers==0.4.1) (1.26.13)\n",
            "Requirement already satisfied: certifi>=2017.4.17 in /ext3/miniconda3/envs/wol_env/lib/python3.7/site-packages (from requests->diffusers==0.4.1) (2022.5.18.1)\n",
            "Requirement already satisfied: pyparsing!=3.0.5,>=2.0.2 in /ext3/miniconda3/envs/wol_env/lib/python3.7/site-packages (from packaging>=20.9->huggingface-hub>=0.10.0->diffusers==0.4.1) (3.0.9)\n",
            "Installing collected packages: diffusers\n",
            "  Attempting uninstall: diffusers\n",
            "    Found existing installation: diffusers 0.10.0.dev0\n",
            "    Uninstalling diffusers-0.10.0.dev0:\n",
            "      Successfully uninstalled diffusers-0.10.0.dev0\n",
            "Successfully installed diffusers-0.4.1\n",
            "Collecting accelerate\n",
            "  Downloading accelerate-0.15.0-py3-none-any.whl (191 kB)\n",
            "\u001b[2K     \u001b[90m━━━━━━━━━━━━━━━━━━━━━━━━━━━━━━━━━━━━━━\u001b[0m \u001b[32m191.5/191.5 kB\u001b[0m \u001b[31m20.5 MB/s\u001b[0m eta \u001b[36m0:00:00\u001b[0m\n",
            "\u001b[?25hRequirement already satisfied: pyyaml in /ext3/miniconda3/envs/wol_env/lib/python3.7/site-packages (from accelerate) (6.0)\n",
            "Requirement already satisfied: psutil in /ext3/miniconda3/envs/wol_env/lib/python3.7/site-packages (from accelerate) (5.9.4)\n",
            "Requirement already satisfied: numpy>=1.17 in /ext3/miniconda3/envs/wol_env/lib/python3.7/site-packages (from accelerate) (1.21.6)\n",
            "Requirement already satisfied: torch>=1.4.0 in /ext3/miniconda3/envs/wol_env/lib/python3.7/site-packages (from accelerate) (1.12.1+cu113)\n",
            "Requirement already satisfied: packaging>=20.0 in /ext3/miniconda3/envs/wol_env/lib/python3.7/site-packages (from accelerate) (21.3)\n",
            "Requirement already satisfied: pyparsing!=3.0.5,>=2.0.2 in /ext3/miniconda3/envs/wol_env/lib/python3.7/site-packages (from packaging>=20.0->accelerate) (3.0.9)\n",
            "Requirement already satisfied: typing-extensions in /ext3/miniconda3/envs/wol_env/lib/python3.7/site-packages (from torch>=1.4.0->accelerate) (4.4.0)\n",
            "Installing collected packages: accelerate\n",
            "Successfully installed accelerate-0.15.0\n",
            "Requirement already satisfied: torchvision in /ext3/miniconda3/envs/wol_env/lib/python3.7/site-packages (0.13.1+cu113)\n",
            "Requirement already satisfied: pillow!=8.3.*,>=5.3.0 in /ext3/miniconda3/envs/wol_env/lib/python3.7/site-packages (from torchvision) (9.1.1)\n",
            "Requirement already satisfied: typing-extensions in /ext3/miniconda3/envs/wol_env/lib/python3.7/site-packages (from torchvision) (4.4.0)\n",
            "Requirement already satisfied: numpy in /ext3/miniconda3/envs/wol_env/lib/python3.7/site-packages (from torchvision) (1.21.6)\n",
            "Requirement already satisfied: requests in /ext3/miniconda3/envs/wol_env/lib/python3.7/site-packages (from torchvision) (2.27.1)\n",
            "Requirement already satisfied: torch==1.12.1 in /ext3/miniconda3/envs/wol_env/lib/python3.7/site-packages (from torchvision) (1.12.1+cu113)\n",
            "Requirement already satisfied: urllib3<1.27,>=1.21.1 in /ext3/miniconda3/envs/wol_env/lib/python3.7/site-packages (from requests->torchvision) (1.26.13)\n",
            "Requirement already satisfied: charset-normalizer~=2.0.0 in /ext3/miniconda3/envs/wol_env/lib/python3.7/site-packages (from requests->torchvision) (2.0.12)\n",
            "Requirement already satisfied: idna<4,>=2.5 in /ext3/miniconda3/envs/wol_env/lib/python3.7/site-packages (from requests->torchvision) (3.3)\n",
            "Requirement already satisfied: certifi>=2017.4.17 in /ext3/miniconda3/envs/wol_env/lib/python3.7/site-packages (from requests->torchvision) (2022.5.18.1)\n",
            "Requirement already satisfied: ftfy in /ext3/miniconda3/envs/wol_env/lib/python3.7/site-packages (6.1.1)\n",
            "Requirement already satisfied: wcwidth>=0.2.5 in /ext3/miniconda3/envs/wol_env/lib/python3.7/site-packages (from ftfy) (0.2.5)\n",
            "Requirement already satisfied: tensorboard in /ext3/miniconda3/envs/wol_env/lib/python3.7/site-packages (2.9.0)\n",
            "Requirement already satisfied: markdown>=2.6.8 in /ext3/miniconda3/envs/wol_env/lib/python3.7/site-packages (from tensorboard) (3.3.7)\n",
            "Requirement already satisfied: absl-py>=0.4 in /ext3/miniconda3/envs/wol_env/lib/python3.7/site-packages (from tensorboard) (1.0.0)\n",
            "Requirement already satisfied: wheel>=0.26 in /ext3/miniconda3/envs/wol_env/lib/python3.7/site-packages (from tensorboard) (0.37.1)\n",
            "Requirement already satisfied: grpcio>=1.24.3 in /ext3/miniconda3/envs/wol_env/lib/python3.7/site-packages (from tensorboard) (1.46.3)\n",
            "Requirement already satisfied: google-auth-oauthlib<0.5,>=0.4.1 in /ext3/miniconda3/envs/wol_env/lib/python3.7/site-packages (from tensorboard) (0.4.6)\n",
            "Requirement already satisfied: protobuf>=3.9.2 in /ext3/miniconda3/envs/wol_env/lib/python3.7/site-packages (from tensorboard) (3.19.0)\n",
            "Requirement already satisfied: requests<3,>=2.21.0 in /ext3/miniconda3/envs/wol_env/lib/python3.7/site-packages (from tensorboard) (2.27.1)\n",
            "Requirement already satisfied: tensorboard-plugin-wit>=1.6.0 in /ext3/miniconda3/envs/wol_env/lib/python3.7/site-packages (from tensorboard) (1.8.1)\n",
            "Requirement already satisfied: werkzeug>=1.0.1 in /ext3/miniconda3/envs/wol_env/lib/python3.7/site-packages (from tensorboard) (2.1.2)\n",
            "Requirement already satisfied: numpy>=1.12.0 in /ext3/miniconda3/envs/wol_env/lib/python3.7/site-packages (from tensorboard) (1.21.6)\n",
            "Requirement already satisfied: tensorboard-data-server<0.7.0,>=0.6.0 in /ext3/miniconda3/envs/wol_env/lib/python3.7/site-packages (from tensorboard) (0.6.1)\n",
            "Requirement already satisfied: google-auth<3,>=1.6.3 in /ext3/miniconda3/envs/wol_env/lib/python3.7/site-packages (from tensorboard) (2.6.6)\n",
            "Requirement already satisfied: setuptools>=41.0.0 in /ext3/miniconda3/envs/wol_env/lib/python3.7/site-packages (from tensorboard) (61.2.0)\n",
            "Requirement already satisfied: six in /ext3/miniconda3/envs/wol_env/lib/python3.7/site-packages (from absl-py>=0.4->tensorboard) (1.16.0)\n",
            "Requirement already satisfied: cachetools<6.0,>=2.0.0 in /ext3/miniconda3/envs/wol_env/lib/python3.7/site-packages (from google-auth<3,>=1.6.3->tensorboard) (5.2.0)\n",
            "Requirement already satisfied: pyasn1-modules>=0.2.1 in /ext3/miniconda3/envs/wol_env/lib/python3.7/site-packages (from google-auth<3,>=1.6.3->tensorboard) (0.2.8)\n",
            "Requirement already satisfied: rsa<5,>=3.1.4 in /ext3/miniconda3/envs/wol_env/lib/python3.7/site-packages (from google-auth<3,>=1.6.3->tensorboard) (4.8)\n",
            "Requirement already satisfied: requests-oauthlib>=0.7.0 in /ext3/miniconda3/envs/wol_env/lib/python3.7/site-packages (from google-auth-oauthlib<0.5,>=0.4.1->tensorboard) (1.3.1)\n",
            "Requirement already satisfied: importlib-metadata>=4.4 in /ext3/miniconda3/envs/wol_env/lib/python3.7/site-packages (from markdown>=2.6.8->tensorboard) (4.11.4)\n",
            "Requirement already satisfied: idna<4,>=2.5 in /ext3/miniconda3/envs/wol_env/lib/python3.7/site-packages (from requests<3,>=2.21.0->tensorboard) (3.3)\n",
            "Requirement already satisfied: certifi>=2017.4.17 in /ext3/miniconda3/envs/wol_env/lib/python3.7/site-packages (from requests<3,>=2.21.0->tensorboard) (2022.5.18.1)\n",
            "Requirement already satisfied: urllib3<1.27,>=1.21.1 in /ext3/miniconda3/envs/wol_env/lib/python3.7/site-packages (from requests<3,>=2.21.0->tensorboard) (1.26.13)\n",
            "Requirement already satisfied: charset-normalizer~=2.0.0 in /ext3/miniconda3/envs/wol_env/lib/python3.7/site-packages (from requests<3,>=2.21.0->tensorboard) (2.0.12)\n",
            "Requirement already satisfied: typing-extensions>=3.6.4 in /ext3/miniconda3/envs/wol_env/lib/python3.7/site-packages (from importlib-metadata>=4.4->markdown>=2.6.8->tensorboard) (4.4.0)\n",
            "Requirement already satisfied: zipp>=0.5 in /ext3/miniconda3/envs/wol_env/lib/python3.7/site-packages (from importlib-metadata>=4.4->markdown>=2.6.8->tensorboard) (3.8.0)\n",
            "Requirement already satisfied: pyasn1<0.5.0,>=0.4.6 in /ext3/miniconda3/envs/wol_env/lib/python3.7/site-packages (from pyasn1-modules>=0.2.1->google-auth<3,>=1.6.3->tensorboard) (0.4.8)\n",
            "Requirement already satisfied: oauthlib>=3.0.0 in /ext3/miniconda3/envs/wol_env/lib/python3.7/site-packages (from requests-oauthlib>=0.7.0->google-auth-oauthlib<0.5,>=0.4.1->tensorboard) (3.2.0)\n",
            "Collecting modelcards\n",
            "  Downloading modelcards-0.1.6-py3-none-any.whl (12 kB)\n",
            "Requirement already satisfied: Jinja2 in /ext3/miniconda3/envs/wol_env/lib/python3.7/site-packages (from modelcards) (3.1.2)\n",
            "Requirement already satisfied: pyyaml>=5.1 in /ext3/miniconda3/envs/wol_env/lib/python3.7/site-packages (from modelcards) (6.0)\n",
            "Requirement already satisfied: huggingface-hub>=0.8.1 in /ext3/miniconda3/envs/wol_env/lib/python3.7/site-packages (from modelcards) (0.11.0)\n",
            "Requirement already satisfied: typing-extensions>=3.7.4.3 in /ext3/miniconda3/envs/wol_env/lib/python3.7/site-packages (from huggingface-hub>=0.8.1->modelcards) (4.4.0)\n",
            "Requirement already satisfied: filelock in /ext3/miniconda3/envs/wol_env/lib/python3.7/site-packages (from huggingface-hub>=0.8.1->modelcards) (3.7.0)\n",
            "Requirement already satisfied: tqdm in /ext3/miniconda3/envs/wol_env/lib/python3.7/site-packages (from huggingface-hub>=0.8.1->modelcards) (4.64.0)\n",
            "Requirement already satisfied: requests in /ext3/miniconda3/envs/wol_env/lib/python3.7/site-packages (from huggingface-hub>=0.8.1->modelcards) (2.27.1)\n",
            "Requirement already satisfied: packaging>=20.9 in /ext3/miniconda3/envs/wol_env/lib/python3.7/site-packages (from huggingface-hub>=0.8.1->modelcards) (21.3)\n",
            "Requirement already satisfied: importlib-metadata in /ext3/miniconda3/envs/wol_env/lib/python3.7/site-packages (from huggingface-hub>=0.8.1->modelcards) (4.11.4)\n",
            "Requirement already satisfied: MarkupSafe>=2.0 in /ext3/miniconda3/envs/wol_env/lib/python3.7/site-packages (from Jinja2->modelcards) (2.1.1)\n",
            "Requirement already satisfied: pyparsing!=3.0.5,>=2.0.2 in /ext3/miniconda3/envs/wol_env/lib/python3.7/site-packages (from packaging>=20.9->huggingface-hub>=0.8.1->modelcards) (3.0.9)\n",
            "Requirement already satisfied: zipp>=0.5 in /ext3/miniconda3/envs/wol_env/lib/python3.7/site-packages (from importlib-metadata->huggingface-hub>=0.8.1->modelcards) (3.8.0)\n",
            "Requirement already satisfied: idna<4,>=2.5 in /ext3/miniconda3/envs/wol_env/lib/python3.7/site-packages (from requests->huggingface-hub>=0.8.1->modelcards) (3.3)\n",
            "Requirement already satisfied: charset-normalizer~=2.0.0 in /ext3/miniconda3/envs/wol_env/lib/python3.7/site-packages (from requests->huggingface-hub>=0.8.1->modelcards) (2.0.12)\n",
            "Requirement already satisfied: urllib3<1.27,>=1.21.1 in /ext3/miniconda3/envs/wol_env/lib/python3.7/site-packages (from requests->huggingface-hub>=0.8.1->modelcards) (1.26.13)\n",
            "Requirement already satisfied: certifi>=2017.4.17 in /ext3/miniconda3/envs/wol_env/lib/python3.7/site-packages (from requests->huggingface-hub>=0.8.1->modelcards) (2022.5.18.1)\n",
            "Installing collected packages: modelcards\n",
            "Successfully installed modelcards-0.1.6\n",
            "Requirement already satisfied: datasets in /ext3/miniconda3/envs/wol_env/lib/python3.7/site-packages (2.4.0)\n",
            "Requirement already satisfied: huggingface-hub<1.0.0,>=0.1.0 in /ext3/miniconda3/envs/wol_env/lib/python3.7/site-packages (from datasets) (0.11.0)\n",
            "Requirement already satisfied: packaging in /ext3/miniconda3/envs/wol_env/lib/python3.7/site-packages (from datasets) (21.3)\n",
            "Requirement already satisfied: numpy>=1.17 in /ext3/miniconda3/envs/wol_env/lib/python3.7/site-packages (from datasets) (1.21.6)\n",
            "Requirement already satisfied: requests>=2.19.0 in /ext3/miniconda3/envs/wol_env/lib/python3.7/site-packages (from datasets) (2.27.1)\n",
            "Requirement already satisfied: multiprocess in /ext3/miniconda3/envs/wol_env/lib/python3.7/site-packages (from datasets) (0.70.13)\n",
            "Requirement already satisfied: responses<0.19 in /ext3/miniconda3/envs/wol_env/lib/python3.7/site-packages (from datasets) (0.18.0)\n",
            "Requirement already satisfied: tqdm>=4.62.1 in /ext3/miniconda3/envs/wol_env/lib/python3.7/site-packages (from datasets) (4.64.0)\n",
            "Requirement already satisfied: xxhash in /ext3/miniconda3/envs/wol_env/lib/python3.7/site-packages (from datasets) (3.1.0)\n",
            "Requirement already satisfied: pyarrow>=6.0.0 in /ext3/miniconda3/envs/wol_env/lib/python3.7/site-packages (from datasets) (10.0.1)\n",
            "Requirement already satisfied: fsspec[http]>=2021.11.1 in /ext3/miniconda3/envs/wol_env/lib/python3.7/site-packages (from datasets) (2022.11.0)\n",
            "Requirement already satisfied: aiohttp in /ext3/miniconda3/envs/wol_env/lib/python3.7/site-packages (from datasets) (3.8.3)\n",
            "Requirement already satisfied: dill<0.3.6 in /ext3/miniconda3/envs/wol_env/lib/python3.7/site-packages (from datasets) (0.3.5.1)\n",
            "Requirement already satisfied: importlib-metadata in /ext3/miniconda3/envs/wol_env/lib/python3.7/site-packages (from datasets) (4.11.4)\n",
            "Requirement already satisfied: pandas in /ext3/miniconda3/envs/wol_env/lib/python3.7/site-packages (from datasets) (1.3.5)\n",
            "Requirement already satisfied: asynctest==0.13.0 in /ext3/miniconda3/envs/wol_env/lib/python3.7/site-packages (from aiohttp->datasets) (0.13.0)\n",
            "Requirement already satisfied: attrs>=17.3.0 in /ext3/miniconda3/envs/wol_env/lib/python3.7/site-packages (from aiohttp->datasets) (22.1.0)\n",
            "Requirement already satisfied: typing-extensions>=3.7.4 in /ext3/miniconda3/envs/wol_env/lib/python3.7/site-packages (from aiohttp->datasets) (4.4.0)\n",
            "Requirement already satisfied: multidict<7.0,>=4.5 in /ext3/miniconda3/envs/wol_env/lib/python3.7/site-packages (from aiohttp->datasets) (6.0.2)\n",
            "Requirement already satisfied: async-timeout<5.0,>=4.0.0a3 in /ext3/miniconda3/envs/wol_env/lib/python3.7/site-packages (from aiohttp->datasets) (4.0.2)\n",
            "Requirement already satisfied: charset-normalizer<3.0,>=2.0 in /ext3/miniconda3/envs/wol_env/lib/python3.7/site-packages (from aiohttp->datasets) (2.0.12)\n",
            "Requirement already satisfied: aiosignal>=1.1.2 in /ext3/miniconda3/envs/wol_env/lib/python3.7/site-packages (from aiohttp->datasets) (1.3.1)\n",
            "Requirement already satisfied: frozenlist>=1.1.1 in /ext3/miniconda3/envs/wol_env/lib/python3.7/site-packages (from aiohttp->datasets) (1.3.3)\n",
            "Requirement already satisfied: yarl<2.0,>=1.0 in /ext3/miniconda3/envs/wol_env/lib/python3.7/site-packages (from aiohttp->datasets) (1.8.1)\n",
            "Requirement already satisfied: filelock in /ext3/miniconda3/envs/wol_env/lib/python3.7/site-packages (from huggingface-hub<1.0.0,>=0.1.0->datasets) (3.7.0)\n",
            "Requirement already satisfied: pyyaml>=5.1 in /ext3/miniconda3/envs/wol_env/lib/python3.7/site-packages (from huggingface-hub<1.0.0,>=0.1.0->datasets) (6.0)\n",
            "Requirement already satisfied: pyparsing!=3.0.5,>=2.0.2 in /ext3/miniconda3/envs/wol_env/lib/python3.7/site-packages (from packaging->datasets) (3.0.9)\n",
            "Requirement already satisfied: certifi>=2017.4.17 in /ext3/miniconda3/envs/wol_env/lib/python3.7/site-packages (from requests>=2.19.0->datasets) (2022.5.18.1)\n",
            "Requirement already satisfied: idna<4,>=2.5 in /ext3/miniconda3/envs/wol_env/lib/python3.7/site-packages (from requests>=2.19.0->datasets) (3.3)\n",
            "Requirement already satisfied: urllib3<1.27,>=1.21.1 in /ext3/miniconda3/envs/wol_env/lib/python3.7/site-packages (from requests>=2.19.0->datasets) (1.26.13)\n",
            "Requirement already satisfied: zipp>=0.5 in /ext3/miniconda3/envs/wol_env/lib/python3.7/site-packages (from importlib-metadata->datasets) (3.8.0)\n",
            "Requirement already satisfied: python-dateutil>=2.7.3 in /ext3/miniconda3/envs/wol_env/lib/python3.7/site-packages (from pandas->datasets) (2.8.2)\n",
            "Requirement already satisfied: pytz>=2017.3 in /ext3/miniconda3/envs/wol_env/lib/python3.7/site-packages (from pandas->datasets) (2022.1)\n",
            "Requirement already satisfied: six>=1.5 in /ext3/miniconda3/envs/wol_env/lib/python3.7/site-packages (from python-dateutil>=2.7.3->pandas->datasets) (1.16.0)\n",
            "Requirement already satisfied: diffusers in /ext3/miniconda3/envs/wol_env/lib/python3.7/site-packages (0.4.1)\n",
            "Collecting diffusers\n",
            "  Downloading diffusers-0.9.0-py3-none-any.whl (453 kB)\n",
            "\u001b[2K     \u001b[90m━━━━━━━━━━━━━━━━━━━━━━━━━━━━━━━━━━━━━━━\u001b[0m \u001b[32m453.1/453.1 kB\u001b[0m \u001b[31m7.0 MB/s\u001b[0m eta \u001b[36m0:00:00\u001b[0m00:01\u001b[0m\n",
            "\u001b[?25hRequirement already satisfied: importlib-metadata in /ext3/miniconda3/envs/wol_env/lib/python3.7/site-packages (from diffusers) (4.11.4)\n",
            "Requirement already satisfied: filelock in /ext3/miniconda3/envs/wol_env/lib/python3.7/site-packages (from diffusers) (3.7.0)\n",
            "Requirement already satisfied: numpy in /ext3/miniconda3/envs/wol_env/lib/python3.7/site-packages (from diffusers) (1.21.6)\n",
            "Requirement already satisfied: requests in /ext3/miniconda3/envs/wol_env/lib/python3.7/site-packages (from diffusers) (2.27.1)\n",
            "Requirement already satisfied: Pillow in /ext3/miniconda3/envs/wol_env/lib/python3.7/site-packages (from diffusers) (9.1.1)\n",
            "Requirement already satisfied: regex!=2019.12.17 in /ext3/miniconda3/envs/wol_env/lib/python3.7/site-packages (from diffusers) (2022.4.24)\n",
            "Requirement already satisfied: huggingface-hub>=0.10.0 in /ext3/miniconda3/envs/wol_env/lib/python3.7/site-packages (from diffusers) (0.11.0)\n",
            "Requirement already satisfied: pyyaml>=5.1 in /ext3/miniconda3/envs/wol_env/lib/python3.7/site-packages (from huggingface-hub>=0.10.0->diffusers) (6.0)\n",
            "Requirement already satisfied: typing-extensions>=3.7.4.3 in /ext3/miniconda3/envs/wol_env/lib/python3.7/site-packages (from huggingface-hub>=0.10.0->diffusers) (4.4.0)\n",
            "Requirement already satisfied: tqdm in /ext3/miniconda3/envs/wol_env/lib/python3.7/site-packages (from huggingface-hub>=0.10.0->diffusers) (4.64.0)\n",
            "Requirement already satisfied: packaging>=20.9 in /ext3/miniconda3/envs/wol_env/lib/python3.7/site-packages (from huggingface-hub>=0.10.0->diffusers) (21.3)\n",
            "Requirement already satisfied: zipp>=0.5 in /ext3/miniconda3/envs/wol_env/lib/python3.7/site-packages (from importlib-metadata->diffusers) (3.8.0)\n",
            "Requirement already satisfied: urllib3<1.27,>=1.21.1 in /ext3/miniconda3/envs/wol_env/lib/python3.7/site-packages (from requests->diffusers) (1.26.13)\n",
            "Requirement already satisfied: idna<4,>=2.5 in /ext3/miniconda3/envs/wol_env/lib/python3.7/site-packages (from requests->diffusers) (3.3)\n",
            "Requirement already satisfied: charset-normalizer~=2.0.0 in /ext3/miniconda3/envs/wol_env/lib/python3.7/site-packages (from requests->diffusers) (2.0.12)\n",
            "Requirement already satisfied: certifi>=2017.4.17 in /ext3/miniconda3/envs/wol_env/lib/python3.7/site-packages (from requests->diffusers) (2022.5.18.1)\n",
            "Requirement already satisfied: pyparsing!=3.0.5,>=2.0.2 in /ext3/miniconda3/envs/wol_env/lib/python3.7/site-packages (from packaging>=20.9->huggingface-hub>=0.10.0->diffusers) (3.0.9)\n",
            "Installing collected packages: diffusers\n",
            "  Attempting uninstall: diffusers\n",
            "    Found existing installation: diffusers 0.4.1\n",
            "    Uninstalling diffusers-0.4.1:\n",
            "      Successfully uninstalled diffusers-0.4.1\n",
            "Successfully installed diffusers-0.9.0\n"
          ]
        }
      ],
      "source": [
        "!pip install git+https://github.com/huggingface/diffusers.git\n",
        "!pip install diffusers==0.4.1\n",
        "!pip install accelerate\n",
        "!pip install torchvision\n",
        "!pip install transformers>=4.21.0\n",
        "!pip install ftfy\n",
        "!pip install tensorboard\n",
        "!pip install modelcards\n",
        "!pip install datasets\n",
        "!pip install -U diffusers"
      ]
    },
    {
      "cell_type": "markdown",
      "source": [
        "## Import the Required Packages"
      ],
      "metadata": {
        "id": "3eSoOHnK2WSv"
      }
    },
    {
      "cell_type": "code",
      "execution_count": null,
      "metadata": {
        "id": "_3QLIrfPfRm6"
      },
      "outputs": [],
      "source": [
        "import datasets\n",
        "import shutil\n",
        "import h5py\n",
        "import numpy as np\n",
        "import io\n",
        "import PIL.Image as Image\n",
        "from torchvision.utils import save_image\n",
        "import torch\n",
        "import json\n",
        "from datasets import load_dataset\n",
        "import pickle\n",
        "from diffusers import StableDiffusionPipeline"
      ]
    },
    {
      "cell_type": "markdown",
      "source": [
        "## Check GPU Information"
      ],
      "metadata": {
        "id": "lhE7nS8b2bye"
      }
    },
    {
      "cell_type": "code",
      "execution_count": null,
      "metadata": {
        "id": "FcIx4JnS2Baq",
        "outputId": "05ab8db1-724b-4cdd-df50-a7582492185b"
      },
      "outputs": [
        {
          "name": "stdout",
          "output_type": "stream",
          "text": [
            "Fri Dec  9 13:31:02 2022       \n",
            "+-----------------------------------------------------------------------------+\n",
            "| NVIDIA-SMI 510.47.03    Driver Version: 510.47.03    CUDA Version: 11.6     |\n",
            "|-------------------------------+----------------------+----------------------+\n",
            "| GPU  Name        Persistence-M| Bus-Id        Disp.A | Volatile Uncorr. ECC |\n",
            "| Fan  Temp  Perf  Pwr:Usage/Cap|         Memory-Usage | GPU-Util  Compute M. |\n",
            "|                               |                      |               MIG M. |\n",
            "|===============================+======================+======================|\n",
            "|   0  NVIDIA A100-SXM...  On   | 00000000:CA:00.0 Off |                    0 |\n",
            "| N/A   27C    P0    70W / 500W |   6058MiB / 81920MiB |      0%      Default |\n",
            "|                               |                      |             Disabled |\n",
            "+-------------------------------+----------------------+----------------------+\n",
            "                                                                               \n",
            "+-----------------------------------------------------------------------------+\n",
            "| Processes:                                                                  |\n",
            "|  GPU   GI   CI        PID   Type   Process name                  GPU Memory |\n",
            "|        ID   ID                                                   Usage      |\n",
            "|=============================================================================|\n",
            "|    0   N/A  N/A   2312245      C   python                           6055MiB |\n",
            "+-----------------------------------------------------------------------------+\n"
          ]
        }
      ],
      "source": [
        "gpu_info = !nvidia-smi\n",
        "gpu_info = '\\n'.join(gpu_info)\n",
        "if gpu_info.find('failed') >= 0:\n",
        "    print('Not connected to a GPU')\n",
        "else:\n",
        "    print(gpu_info)"
      ]
    },
    {
      "cell_type": "markdown",
      "source": [
        "## Initialize the accelerate environment\n",
        "\n"
      ],
      "metadata": {
        "id": "z57FW_W32rK3"
      }
    },
    {
      "cell_type": "code",
      "execution_count": null,
      "metadata": {
        "colab": {
          "base_uri": "https://localhost:8080/"
        },
        "id": "ZUn4OWEC_LpF",
        "outputId": "bd0f0388-cb8d-46f2-eebd-49e4f590d014"
      },
      "outputs": [
        {
          "name": "stdout",
          "output_type": "stream",
          "text": [
            "Configuration already exists at /home/sv2128/.cache/huggingface/accelerate/default_config.yaml, will not override. Run `accelerate config` manually or pass a different `save_location`.\n"
          ]
        }
      ],
      "source": [
        "!accelerate config default"
      ]
    },
    {
      "cell_type": "markdown",
      "source": [
        "## Hugging Face Hub Login\n",
        "\n",
        "You need to accept the model license before downloading or using the weights. In this example we’ll use model version v1-4, so you’ll need to visit its card (https://huggingface.co/CompVis/stable-diffusion-v1-4), read the license and tick the checkbox if you agree.\n",
        "\n",
        "You have to be a registered user in 🤗 Hugging Face Hub, and you’ll also need to use an access token for the code to work. For more information on access tokens, please refer to this section of the documentation (https://huggingface.co/docs/hub/security-tokens)."
      ],
      "metadata": {
        "id": "fY4qfQp82x1l"
      }
    },
    {
      "cell_type": "code",
      "execution_count": null,
      "metadata": {
        "colab": {
          "base_uri": "https://localhost:8080/"
        },
        "id": "3JlyIlAVAkDY",
        "outputId": "27f4b1f5-9f73-4a04-c76f-3b2fe0c26296"
      },
      "outputs": [
        {
          "name": "stdout",
          "output_type": "stream",
          "text": [
            "Token will not been saved to git credential helper. Pass `add_to_git_credential=True` if you want to set the git credential as well.\n",
            "Token is valid.\n",
            "Your token has been saved to /home/sv2128/.huggingface/token\n",
            "Login successful\n"
          ]
        }
      ],
      "source": [
        "from huggingface_hub import login\n",
        "login(token='your_access_token')"
      ]
    },
    {
      "cell_type": "markdown",
      "source": [
        "## Function to Unpickle\n",
        "\n",
        "We need to use this method to unpickle Cifar-10 dataset batches."
      ],
      "metadata": {
        "id": "sIg7q8oI3IXP"
      }
    },
    {
      "cell_type": "code",
      "execution_count": null,
      "metadata": {
        "id": "OgyaMKQefn4z"
      },
      "outputs": [],
      "source": [
        "def unpickle(file):\n",
        "  with open(file, 'rb') as fo:\n",
        "      dict = pickle.load(fo, encoding='latin1')\n",
        "  return dict"
      ]
    },
    {
      "cell_type": "markdown",
      "source": [
        "## Function to Construct Cifar-10 Dataset as Required by Stable Diffusion\n",
        "\n",
        "To run on your own training files you need to prepare the dataset according to the format required by datasets. You can upload your dataset to the Hugging Face Hub, or you can prepare a local folder with your files. This documentation (https://huggingface.co/docs/hub/security-tokens) explains how to do it.\n",
        "\n",
        "Make sure there is an empty train folder in CIFAR_DIR\n",
        "\n",
        "Keep your train data batches of CIFAR-10 in CIFAR_DIR"
      ],
      "metadata": {
        "id": "NkzHqcNK4GHc"
      }
    },
    {
      "cell_type": "code",
      "execution_count": null,
      "metadata": {
        "id": "pr4YR7JPfs9V"
      },
      "outputs": [],
      "source": [
        "\"\"\"\n",
        "\n",
        "This funtion uses only the training batches of Cifar-10 dataset and converts them into the required format \n",
        "for fine-tuning of the Stable Diffusion model.\n",
        "\n",
        "\"\"\"\n",
        "\n",
        "def construct_cifar(CIFAR_DIR):\n",
        "\n",
        "  # Label Names: ['airplane', 'automobile', 'bird', 'cat', 'deer', 'dog', 'frog', 'horse', 'ship', 'truck']\n",
        "\n",
        "  metajson_list=[]\n",
        "  label_dict={}\n",
        "  label_dict[0]='airplane'\n",
        "  label_dict[1]='automobile'\n",
        "  label_dict[2]='bird'\n",
        "  label_dict[3]='cat'\n",
        "  label_dict[4]='deer'\n",
        "  label_dict[5]='dog'\n",
        "  label_dict[6]='frog'\n",
        "  label_dict[7]='horse'\n",
        "  label_dict[8]='ship'\n",
        "  label_dict[9]='truck'\n",
        "\n",
        "  num_files=5\n",
        "  for i in range(1,num_files+1):\n",
        "    print(i)\n",
        "    data_batch=unpickle(CIFAR_DIR+'/data_batch_'+str(i))\n",
        "\n",
        "    for j in range(len(data_batch['data'])):\n",
        "      temp_meta={}\n",
        "      temp_image=data_batch['data'][j]\n",
        "      temp_image=temp_image.reshape(3,32,32)\n",
        "      temp_image=torch.from_numpy(temp_image)\n",
        "      temp_image=temp_image/255\n",
        "      save_image(temp_image,CIFAR_DIR+'/train/'+str(data_batch['filenames'][j]))\n",
        "      temp_meta['file_name']=data_batch['filenames'][j]\n",
        "      temp_meta['text']=label_dict[data_batch['labels'][j]]\n",
        "      metajson_list.append(temp_meta)\n",
        "  print(metajson_list)\n",
        "\n",
        "  \n",
        "  with open(CIFAR_DIR+\"/train/metadata.jsonl\", 'w') as f:\n",
        "    for item in metajson_list:\n",
        "        f.write(json.dumps(item) + \"\\n\")\n"
      ]
    },
    {
      "cell_type": "code",
      "execution_count": null,
      "metadata": {
        "id": "tls2Ax-j2Baw"
      },
      "outputs": [],
      "source": [
        "CIFAR_DIR = \"path/to/CIFAR_DIR\""
      ]
    },
    {
      "cell_type": "code",
      "execution_count": null,
      "metadata": {
        "id": "PJXvv8vG2Bax"
      },
      "outputs": [],
      "source": [
        "construct_cifar(CIFAR_DIR)\n",
        "#cifar_dataset = datasets.load_dataset(\"imagefolder\", data_dir=CIFAR_DIR, split=\"train\")\n",
        "#print(cifar_dataset[0])"
      ]
    },
    {
      "cell_type": "markdown",
      "source": [
        "## Fine-tune Stable Diffusion\n",
        "\n",
        "The fine-tuning of Stable Diffusion takes around 8 hours on V100 GPU for epochs. Please tune the hyper-parameters based on your requirements."
      ],
      "metadata": {
        "id": "mHG4XY3z4jqb"
      }
    },
    {
      "cell_type": "code",
      "execution_count": null,
      "metadata": {
        "id": "KDPhOj7cmagd"
      },
      "outputs": [],
      "source": [
        "!(accelerate launch HF_StableD_CV/train_text_to_image.py \\\n",
        "  --pretrained_model_name_or_path=\"CompVis/stable-diffusion-v1-4\" \\\n",
        "  --train_data_dir=\"path/to/CIFAR_DIR/train\" \\\n",
        "  --use_ema \\\n",
        "  --resolution=512 --center_crop --random_flip \\\n",
        "  --train_batch_size=16 \\\n",
        "  --gradient_accumulation_steps=8 \\\n",
        "  --gradient_checkpointing \\\n",
        "  --mixed_precision=\"bf16\" \\\n",
        "  --num_train_epochs=5 \\\n",
        "  --learning_rate=1e-05 \\\n",
        "  --max_grad_norm=1 \\\n",
        "  --lr_scheduler=\"constant\" --lr_warmup_steps=0 \\\n",
        "  --output_dir=\"path/to/CIFAR_DIR/output/directory\" \\\n",
        ")"
      ]
    },
    {
      "cell_type": "markdown",
      "source": [
        "## Visualize Epoch Vs Loss Graph "
      ],
      "metadata": {
        "id": "aMta38Y846OI"
      }
    },
    {
      "cell_type": "code",
      "execution_count": null,
      "metadata": {
        "id": "BhpzLoRf2Ba0"
      },
      "outputs": [],
      "source": [
        "!tensorboard --logdir path/to/CIFAR_DIR/output/directory"
      ]
    },
    {
      "cell_type": "markdown",
      "source": [
        "## Function to Generate Cifar-10 Dataset\n",
        "\n",
        "This function generates images based on the labels as text prompts present in test set of Cifar-10\n",
        "\n",
        "Make sure there is an empty test folder in CIFAR_DIR location"
      ],
      "metadata": {
        "id": "vn3PP_sl7yVq"
      }
    },
    {
      "cell_type": "code",
      "execution_count": null,
      "metadata": {
        "id": "b_d-SIzW2Ba1"
      },
      "outputs": [],
      "source": [
        "def generate_cifar(CIFAR_DIR):\n",
        "  label_dict={}\n",
        "  label_dict[0]='airplane'\n",
        "  label_dict[1]='automobile'\n",
        "  label_dict[2]='bird'\n",
        "  label_dict[3]='cat'\n",
        "  label_dict[4]='deer'\n",
        "  label_dict[5]='dog'\n",
        "  label_dict[6]='frog'\n",
        "  label_dict[7]='horse'\n",
        "  label_dict[8]='ship'\n",
        "  label_dict[9]='truck'\n",
        "  images_per_class=1000\n",
        "  num_of_labels=10\n",
        "  \n",
        "  model_path = \"path/to/CIFAR_DIR/output/directory\"\n",
        "  pipe = StableDiffusionPipeline.from_pretrained(model_path, torch_dtype=torch.float16)\n",
        "  pipe.safety_checker = lambda images, clip_input: (images, False)\n",
        "  pipe.to(\"cuda\")\n",
        "\n",
        "  for j in range(2,num_of_labels):  \n",
        "      for i in range(images_per_class):\n",
        "        image = pipe(prompt=label_dict[j]).images[0]\n",
        "        image.save(\"path/to/CIFAR_DIR/test/image_name\"+\".png\")"
      ]
    },
    {
      "cell_type": "code",
      "execution_count": null,
      "metadata": {
        "id": "lLUUJvCA2Ba2"
      },
      "outputs": [],
      "source": [
        "generate_cifar(CIFAR_DIR)"
      ]
    }
  ],
  "metadata": {
    "accelerator": "GPU",
    "colab": {
      "machine_shape": "hm",
      "provenance": []
    },
    "gpuClass": "premium",
    "kernelspec": {
      "display_name": "WOL_ENV",
      "language": "python",
      "name": "wol_env"
    },
    "language_info": {
      "codemirror_mode": {
        "name": "ipython",
        "version": 3
      },
      "file_extension": ".py",
      "mimetype": "text/x-python",
      "name": "python",
      "nbconvert_exporter": "python",
      "pygments_lexer": "ipython3",
      "version": "3.7.13"
    }
  },
  "nbformat": 4,
  "nbformat_minor": 0
}