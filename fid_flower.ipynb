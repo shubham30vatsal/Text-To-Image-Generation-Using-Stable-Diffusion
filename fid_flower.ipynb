{
  "nbformat": 4,
  "nbformat_minor": 0,
  "metadata": {
    "colab": {
      "provenance": []
    },
    "kernelspec": {
      "name": "python3",
      "display_name": "Python 3"
    },
    "language_info": {
      "name": "python"
    },
    "accelerator": "GPU",
    "gpuClass": "standard"
  },
  "cells": [
    {
      "cell_type": "markdown",
      "source": [
        "## Install the Packages"
      ],
      "metadata": {
        "id": "D8IFXO09c_gt"
      }
    },
    {
      "cell_type": "code",
      "source": [
        "!pip install pytorch-fid"
      ],
      "metadata": {
        "colab": {
          "base_uri": "https://localhost:8080/"
        },
        "id": "J1g-iE_4h0NP",
        "outputId": "fda57024-1603-458a-e3ee-5ebe5c0c36ed"
      },
      "execution_count": null,
      "outputs": [
        {
          "output_type": "stream",
          "name": "stdout",
          "text": [
            "Looking in indexes: https://pypi.org/simple, https://us-python.pkg.dev/colab-wheels/public/simple/\n",
            "Requirement already satisfied: pytorch-fid in /usr/local/lib/python3.8/dist-packages (0.2.1)\n",
            "Requirement already satisfied: torch>=1.0.1 in /usr/local/lib/python3.8/dist-packages (from pytorch-fid) (1.13.0+cu116)\n",
            "Requirement already satisfied: scipy in /usr/local/lib/python3.8/dist-packages (from pytorch-fid) (1.7.3)\n",
            "Requirement already satisfied: pillow in /usr/local/lib/python3.8/dist-packages (from pytorch-fid) (7.1.2)\n",
            "Requirement already satisfied: numpy in /usr/local/lib/python3.8/dist-packages (from pytorch-fid) (1.21.6)\n",
            "Requirement already satisfied: torchvision>=0.2.2 in /usr/local/lib/python3.8/dist-packages (from pytorch-fid) (0.14.0+cu116)\n",
            "Requirement already satisfied: typing-extensions in /usr/local/lib/python3.8/dist-packages (from torch>=1.0.1->pytorch-fid) (4.4.0)\n",
            "Requirement already satisfied: requests in /usr/local/lib/python3.8/dist-packages (from torchvision>=0.2.2->pytorch-fid) (2.23.0)\n",
            "Requirement already satisfied: urllib3!=1.25.0,!=1.25.1,<1.26,>=1.21.1 in /usr/local/lib/python3.8/dist-packages (from requests->torchvision>=0.2.2->pytorch-fid) (1.24.3)\n",
            "Requirement already satisfied: certifi>=2017.4.17 in /usr/local/lib/python3.8/dist-packages (from requests->torchvision>=0.2.2->pytorch-fid) (2022.9.24)\n",
            "Requirement already satisfied: chardet<4,>=3.0.2 in /usr/local/lib/python3.8/dist-packages (from requests->torchvision>=0.2.2->pytorch-fid) (3.0.4)\n",
            "Requirement already satisfied: idna<3,>=2.5 in /usr/local/lib/python3.8/dist-packages (from requests->torchvision>=0.2.2->pytorch-fid) (2.10)\n"
          ]
        }
      ]
    },
    {
      "cell_type": "markdown",
      "source": [
        "## Import the Packages"
      ],
      "metadata": {
        "id": "ICzZblp_dKg9"
      }
    },
    {
      "cell_type": "code",
      "source": [
        "from PIL import Image\n",
        "import os, sys\n",
        "import shutil"
      ],
      "metadata": {
        "id": "4qiXpPEEdGvy"
      },
      "execution_count": null,
      "outputs": []
    },
    {
      "cell_type": "markdown",
      "source": [
        "## Resizing the Ground Truth Images\n",
        "\n",
        "The generated images for Oxford-102 (Flower) dataset from Stable Diffusion model are of 512x512 size but the ground truth test set images are of random size. This is why we are resizing the ground truth test set images in order to calculate FID."
      ],
      "metadata": {
        "id": "vUfhcvWyeNSv"
      }
    },
    {
      "cell_type": "code",
      "source": [
        "path = \"path/to/ground/truth/images\"\n",
        "dirs = os.listdir(path)\n",
        "print(dirs)\n",
        "\n",
        "newpath = \"path/to/resized/ground/truth/images\"\n",
        "if not os.path.exists(newpath):\n",
        "    os.makedirs(newpath)\n",
        "\n",
        "n = 0\n",
        "\n",
        "\"\"\"\n",
        "\n",
        "function to resize images\n",
        "\n",
        "\"\"\"\n",
        "def resize():\n",
        "  n=0\n",
        "  for item in dirs:\n",
        "    if os.path.isfile(path+item) and item.endswith('.jpg'):\n",
        "      im = Image.open(path+item)\n",
        "      # f, e = os.path.splitext(path+item)\n",
        "      imResize = im.resize((512,512), Image.ANTIALIAS)\n",
        "      imResize.save(newpath + item , 'JPEG', quality=95, subsampling=0)\n",
        "      n=n+1\n",
        "      #print(n)\n",
        "\n",
        "resize()"
      ],
      "metadata": {
        "id": "UDTMbC6FkcZB"
      },
      "execution_count": null,
      "outputs": []
    },
    {
      "cell_type": "markdown",
      "source": [
        "## Calculating FID between Generated and Ground Truth Images"
      ],
      "metadata": {
        "id": "wBf4wf_bdaO0"
      }
    },
    {
      "cell_type": "code",
      "source": [
        "!python   -m pytorch_fid --device cuda:0 --batch-size 128  'path/to/generated/test/images' 'path/to/resized/ground/truth/images'  "
      ],
      "metadata": {
        "colab": {
          "base_uri": "https://localhost:8080/"
        },
        "id": "IRhCrd7ViEmK",
        "outputId": "298f3482-7d22-498e-f6a4-9f802f612b02"
      },
      "execution_count": null,
      "outputs": [
        {
          "output_type": "stream",
          "name": "stdout",
          "text": [
            "/usr/local/lib/python3.8/dist-packages/torchvision/models/_utils.py:208: UserWarning: The parameter 'pretrained' is deprecated since 0.13 and may be removed in the future, please use 'weights' instead.\n",
            "  warnings.warn(\n",
            "/usr/local/lib/python3.8/dist-packages/torchvision/models/_utils.py:223: UserWarning: Arguments other than a weight enum or `None` for 'weights' are deprecated since 0.13 and may be removed in the future. The current behavior is equivalent to passing `weights=None`.\n",
            "  warnings.warn(msg)\n",
            "100% 49/49 [01:32<00:00,  1.88s/it]\n",
            "100% 49/49 [01:03<00:00,  1.30s/it]\n",
            "FID:  28.21554574730476\n"
          ]
        }
      ]
    }
  ]
}